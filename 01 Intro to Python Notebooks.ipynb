{
 "cells": [
  {
   "cell_type": "markdown",
   "metadata": {},
   "source": [
    "# Welcome to Python Notebooks\n",
    "\n",
    "Notebooks are split into Markdown cells and code cells.\n",
    "\n",
    "Code cells contain Python which is executable by selecting a code cell (below) and clicking the ▶ button in the toolbar.\n",
    "\n",
    "When first executing a cell you'll notice AWS will spend some time starting up an execution environment before the answer of 2 will appear."
   ]
  },
  {
   "cell_type": "code",
   "execution_count": null,
   "metadata": {},
   "outputs": [],
   "source": [
    "1 + 1"
   ]
  },
  {
   "cell_type": "markdown",
   "metadata": {},
   "source": [
    "## Exercises\n",
    "\n",
    "1. Create a new code cell below this one which contains some python code.  Why not try the [title function](https://www.geeksforgeeks.org/title-in-python/)?\n",
    "1. Execute that new cell to see the result.\n",
    "1. If you're new to Python, reading the article [Python for experienced programmers](https://blog.devgenius.io/python-for-experienced-programmers-a2ee334ce62f#e5a4) explains some core concepts."
   ]
  }
 ],
 "metadata": {
  "interpreter": {
   "hash": "fc2571f93f1d671bdac87eb973152e0abf55263458b01a56ba6bdd974acd69bc"
  },
  "kernelspec": {
   "display_name": "Python 3.10.0 64-bit ('3.10.0')",
   "language": "python",
   "name": "python3"
  },
  "language_info": {
   "name": "python",
   "version": "3.10.0"
  },
  "orig_nbformat": 4
 },
 "nbformat": 4,
 "nbformat_minor": 2
}
