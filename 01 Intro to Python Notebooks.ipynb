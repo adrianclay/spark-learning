{
 "cells": [
  {
   "cell_type": "markdown",
   "metadata": {},
   "source": [
    "# Welcome to Python Notebooks\n",
    "\n",
    "Notebooks are split into Markdown cells and code cells.\n",
    "\n",
    "Code cells contain Python which is executable by selecting a code cell (below) and clicking the ▶ button in the toolbar.\n",
    "\n",
    "When first executing a cell you'll notice AWS will spend some time starting up an execution environment before the answer of 2 will appear."
   ]
  },
  {
   "cell_type": "code",
   "execution_count": null,
   "metadata": {},
   "outputs": [],
   "source": [
    "1 + 1"
   ]
  },
  {
   "cell_type": "markdown",
   "metadata": {},
   "source": [
    "## Exercises\n"
   ]
  },
  {
   "cell_type": "markdown",
   "metadata": {},
   "source": [
    "1. Create a new code cell below this one which contains some python code.  Why not try the [title function](https://www.geeksforgeeks.org/title-in-python/)?\n"
   ]
  },
  {
   "cell_type": "code",
   "execution_count": null,
   "metadata": {},
   "outputs": [],
   "source": []
  },
  {
   "cell_type": "markdown",
   "metadata": {},
   "source": [
    "2. Execute that new cell to see the result.\n"
   ]
  },
  {
   "cell_type": "code",
   "execution_count": null,
   "metadata": {},
   "outputs": [],
   "source": []
  },
  {
   "cell_type": "markdown",
   "metadata": {},
   "source": [
    "3. If you're new to Python, reading the article [Python for experienced programmers](https://blog.devgenius.io/python-for-experienced-programmers-a2ee334ce62f#e5a4) explains some core concepts."
   ]
  },
  {
   "cell_type": "code",
   "execution_count": null,
   "metadata": {},
   "outputs": [],
   "source": []
  }
 ],
 "metadata": {
  "kernelspec": {
   "display_name": "Python 3.9.2 64-bit ('3.9.2')",
   "language": "python",
   "name": "python3"
  },
  "language_info": {
   "name": "python",
   "version": "3.9.2"
  },
  "orig_nbformat": 4,
  "vscode": {
   "interpreter": {
    "hash": "b664d7538e9e6cb83f68b34f1169bfb1b78da0986d7cdad8b8d2121e82a8c8fc"
   }
  }
 },
 "nbformat": 4,
 "nbformat_minor": 2
}
