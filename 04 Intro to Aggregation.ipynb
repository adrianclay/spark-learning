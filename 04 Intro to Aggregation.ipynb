{
 "cells": [
  {
   "cell_type": "markdown",
   "metadata": {},
   "source": [
    "# Welcome to Aggregation\n",
    "\n",
    "Aggregation: a cluster of things that have come or been brought together.\n",
    "\n",
    "- [groupBy](https://spark.apache.org/docs/3.1.1/api/python/reference/api/pyspark.sql.DataFrame.groupBy.html) - Groups the `DataFrame` using the specified columns, so we can run aggregation on them.  Returns `GroupedData`."
   ]
  },
  {
   "cell_type": "code",
   "execution_count": null,
   "metadata": {},
   "outputs": [],
   "source": [
    "from pyspark.context import SparkContext\n",
    "from pyspark.sql import Row\n",
    "\n",
    "spark_context = SparkContext.getOrCreate()\n",
    "rdd = spark_context.parallelize(\n",
    "    [\n",
    "        Row(\"Adrian\", \"Cake\",   1.23),\n",
    "        Row(\"Adrian\", \"Wine\",   7.00),\n",
    "        Row(\"Dan\",    \"Tea\",    3.20),\n",
    "        Row(\"Dan\",    \"Rum\",    9.20),\n",
    "        Row(\"Fraser\", \"Cheese\", 3.20),\n",
    "        Row(\"Fraser\", \"Cheese\", 4.00),\n",
    "        Row(\"Fraser\", \"Cheese\", 2.00),\n",
    "    ]\n",
    ")\n",
    "shopping_dataframe = rdd.toDF(['name', 'product', 'price'])\n",
    "\n",
    "shopping_dataframe.groupBy('name').count().show()"
   ]
  },
  {
   "cell_type": "markdown",
   "metadata": {},
   "source": [
    "- [crosstab](https://spark.apache.org/docs/latest/api/python/reference/pyspark.sql/api/pyspark.sql.DataFrame.crosstab.html#pyspark.sql.DataFrame.crosstab) - Computes a pair-wise frequency table of the given columns."
   ]
  },
  {
   "cell_type": "code",
   "execution_count": null,
   "metadata": {},
   "outputs": [],
   "source": [
    "shopping_dataframe.crosstab('name', 'product').show()"
   ]
  },
  {
   "cell_type": "markdown",
   "metadata": {},
   "source": [
    "## Exercises\n",
    "\n",
    "1. Using the existing `shopping_dataframe` print to the console a new DataFrame which shows the total price for all products each person has.\n",
    "1. Using the existing `shopping_dataframe` print to the console a new DataFrame which shows the average price across all products.\n",
    "    <details>\n",
    "      <summary>Hint</summary>\n",
    "      groupBy can group across any number of columns, including zero.\n",
    "    </details>"
   ]
  },
  {
   "cell_type": "markdown",
   "metadata": {},
   "source": [
    "## Resources\n",
    "\n",
    "- [GroupedData API](https://spark.apache.org/docs/3.1.1/api/python/reference/api/pyspark.sql.GroupedData.html#pyspark.sql.GroupedData)"
   ]
  }
 ],
 "metadata": {
  "interpreter": {
   "hash": "fc2571f93f1d671bdac87eb973152e0abf55263458b01a56ba6bdd974acd69bc"
  },
  "kernelspec": {
   "display_name": "Python 3.10.0 64-bit ('3.10.0')",
   "language": "python",
   "name": "python3"
  },
  "language_info": {
   "name": "python",
   "version": "3.10.0"
  },
  "orig_nbformat": 4
 },
 "nbformat": 4,
 "nbformat_minor": 2
}
